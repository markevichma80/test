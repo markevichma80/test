{
 "cells": [
  {
   "cell_type": "code",
   "execution_count": 47,
   "metadata": {},
   "outputs": [],
   "source": [
    "import pandas as pd \n",
    "import string\n",
    "import numpy as np"
   ]
  },
  {
   "cell_type": "markdown",
   "metadata": {},
   "source": [
    "# Задача 1"
   ]
  },
  {
   "cell_type": "code",
   "execution_count": 48,
   "metadata": {},
   "outputs": [
    {
     "name": "stdout",
     "output_type": "stream",
     "text": [
      "871853874\n"
     ]
    }
   ],
   "source": [
    "df = pd.read_csv('names.txt' )\n",
    "result_names = 0\n",
    "names = df.columns.sort_values().tolist()\n",
    "liter_dict = {letter : num + 1 for num, letter in enumerate(list(string.ascii_uppercase))}\n",
    "for num_name, name in enumerate(names):\n",
    "    result_word = 0\n",
    "    for i in name:        \n",
    "        result_word +=liter_dict.get(i)    \n",
    "    result_names += result_word * (num_name+1)\n",
    "print(result_names)"
   ]
  },
  {
   "cell_type": "markdown",
   "metadata": {},
   "source": [
    "# Задача 2"
   ]
  },
  {
   "cell_type": "code",
   "execution_count": 78,
   "metadata": {},
   "outputs": [
    {
     "data": {
      "text/plain": [
       "Index(['154.157.157.156', '82.146.232.163', '226.247.119.128', '194.78.107.33',\n",
       "       '21.143.243.182', '226.181.188.147'],\n",
       "      dtype='object')"
      ]
     },
     "execution_count": 78,
     "metadata": {},
     "output_type": "execute_result"
    }
   ],
   "source": [
    "df = pd.read_csv('hits.txt' , sep='\\t', names=['host','ip', 'page'])\n",
    "df.ip.value_counts()[:6].index"
   ]
  },
  {
   "cell_type": "code",
   "execution_count": 79,
   "metadata": {},
   "outputs": [
    {
     "data": {
      "text/plain": [
       "{'154.157.157.156': 1531,\n",
       " '82.146.232.163': 1505,\n",
       " '226.247.119.128': 1494,\n",
       " '194.78.107.33': 1494,\n",
       " '21.143.243.182': 1479,\n",
       " '226.181.188.147': 1471}"
      ]
     },
     "execution_count": 79,
     "metadata": {},
     "output_type": "execute_result"
    }
   ],
   "source": [
    "dict(zip(df.ip.value_counts().index[:6],df.ip.value_counts().values[:6]))"
   ]
  },
  {
   "cell_type": "markdown",
   "metadata": {},
   "source": [
    "# Задача 3"
   ]
  },
  {
   "cell_type": "code",
   "execution_count": 51,
   "metadata": {},
   "outputs": [],
   "source": [
    "les = pd.read_csv('lessons.txt', sep='|')\n",
    "part = pd.read_csv('participants.txt', sep='|')\n",
    "qual = pd.read_csv('quality.txt', sep='|')\n",
    "users = pd.read_csv('users.txt', sep='|')"
   ]
  },
  {
   "cell_type": "markdown",
   "metadata": {},
   "source": [
    "# удаляем неопределённые поля"
   ]
  },
  {
   "cell_type": "code",
   "execution_count": 52,
   "metadata": {},
   "outputs": [],
   "source": [
    "users.rename(columns={users.columns[0]:'id', users.columns[1]:'role'}, inplace=True)\n",
    "part.rename(columns={part.columns[0]:'event_id', part.columns[1]:'user_id'},inplace=True)\n",
    "qual.rename(columns={qual.columns[0]:'lesson_id', qual.columns[1]:'tech_quality'},inplace=True)\n",
    "les.rename(columns = {les.columns[0]:'id', les.columns[1]:'event_id', les.columns[2]:'subject', les.columns[3]:'scheduled_time'}\\\n",
    "           ,inplace=True)"
   ]
  },
  {
   "cell_type": "code",
   "execution_count": 53,
   "metadata": {},
   "outputs": [],
   "source": [
    "users = users[users.iloc[:,-1].isnull() == False]\n",
    "part = part[part.iloc[:,-1].isnull() == False]\n",
    "qual = qual[qual.iloc[:,-1].isnull() == False]\n",
    "les = les[les.iloc[:,-1].isnull() == False]"
   ]
  },
  {
   "cell_type": "code",
   "execution_count": 54,
   "metadata": {},
   "outputs": [],
   "source": [
    "part['event_id'] = part['event_id'].str.replace(' ','')\n",
    "part['user_id'] = part['user_id'].str.replace(' ','')\n",
    "part['gr'] = 1\n",
    "part = part.groupby(by=['user_id','event_id'], as_index=False, observed=True).mean()[['event_id','user_id']]"
   ]
  },
  {
   "cell_type": "code",
   "execution_count": 56,
   "metadata": {},
   "outputs": [],
   "source": [
    "users['gr'] = 1\n",
    "users = users.groupby(by=['id', 'role' ], as_index=False, observed=True).mean()[['id', 'role' ]]"
   ]
  },
  {
   "cell_type": "code",
   "execution_count": 57,
   "metadata": {},
   "outputs": [],
   "source": [
    "part['event_id'] = part['event_id'].apply(lambda x: int(x) if x.isalnum() else 0)"
   ]
  },
  {
   "cell_type": "markdown",
   "metadata": {},
   "source": [
    "# Выделяем id_event количество которых более 1 так как нам не нужны в рассмотрении уроки прошедшие без учеников."
   ]
  },
  {
   "cell_type": "code",
   "execution_count": 58,
   "metadata": {},
   "outputs": [],
   "source": [
    "lesson = part['event_id'].value_counts()[part['event_id'].value_counts().values > 1].index.tolist()"
   ]
  },
  {
   "cell_type": "markdown",
   "metadata": {},
   "source": [
    "# Оставляем в рассмотрении уроки в которых принимали участие и учитель и ученик, а так же переводим время из UTC в московское"
   ]
  },
  {
   "cell_type": "code",
   "execution_count": 59,
   "metadata": {},
   "outputs": [],
   "source": [
    "les['id'] = les['id'].str.replace(' ','')\n",
    "les = les[les['event_id'].isin(lesson)]\n",
    "les['scheduled_time'] = pd.to_datetime(les['scheduled_time'], utc=True).dt.tz_convert('Europe/Moscow').dt.date"
   ]
  },
  {
   "cell_type": "markdown",
   "metadata": {},
   "source": [
    "# Преобразуем данные tech_quality в числовые и для каждого уолка выводим сумму оценок и количество оценок (табл quality)"
   ]
  },
  {
   "cell_type": "code",
   "execution_count": 61,
   "metadata": {},
   "outputs": [],
   "source": [
    "qual['tech_quality'] = qual['tech_quality'].str.replace(' ','')\n",
    "qual['tech_quality'] = qual['tech_quality'].apply(lambda x: int(x) if x.isalnum() else 0)"
   ]
  },
  {
   "cell_type": "code",
   "execution_count": 62,
   "metadata": {},
   "outputs": [],
   "source": [
    "qual['lesson_id'] = qual['lesson_id'].str.replace(' ','')\n",
    "quality = qual.groupby(by='lesson_id', as_index=False).agg(['sum', 'count'])\n",
    "quality.columns = quality.columns.droplevel(0)\n",
    "quality = quality.reset_index()"
   ]
  },
  {
   "cell_type": "markdown",
   "metadata": {},
   "source": [
    "# К таблие part присоединяем идентификацию участников"
   ]
  },
  {
   "cell_type": "code",
   "execution_count": 66,
   "metadata": {},
   "outputs": [],
   "source": [
    "users['id'] = users['id'].str.replace(' ','')\n",
    "part = part.join(users.set_index('id'), on='user_id')"
   ]
  },
  {
   "cell_type": "markdown",
   "metadata": {},
   "source": [
    "# Выделяем занятия только по физике и добавляем данные о сумме оценок за урок и количество оценок к таблицу les"
   ]
  },
  {
   "cell_type": "code",
   "execution_count": 68,
   "metadata": {},
   "outputs": [],
   "source": [
    "les_phis = les[les['subject'] == np.sort(les['subject'].unique())[-1]]\n",
    "les_phis = les_phis.join(quality.set_index('lesson_id'), on='id').fillna(0)"
   ]
  },
  {
   "cell_type": "code",
   "execution_count": 69,
   "metadata": {},
   "outputs": [],
   "source": [
    "les_phis = les_phis.join(part[part['role'] == ' tutor'].set_index('event_id'), on='event_id')\n",
    "les_phis.loc[(les_phis['count'] != 0)&(les_phis['sum'] == 0), 'sum'] = 0"
   ]
  },
  {
   "cell_type": "code",
   "execution_count": 76,
   "metadata": {},
   "outputs": [
    {
     "data": {
      "text/html": [
       "<div>\n",
       "<style scoped>\n",
       "    .dataframe tbody tr th:only-of-type {\n",
       "        vertical-align: middle;\n",
       "    }\n",
       "\n",
       "    .dataframe tbody tr th {\n",
       "        vertical-align: top;\n",
       "    }\n",
       "\n",
       "    .dataframe thead th {\n",
       "        text-align: right;\n",
       "    }\n",
       "</style>\n",
       "<table border=\"1\" class=\"dataframe\">\n",
       "  <thead>\n",
       "    <tr style=\"text-align: right;\">\n",
       "      <th></th>\n",
       "      <th>scheduled_time</th>\n",
       "      <th>user_id</th>\n",
       "      <th>mean</th>\n",
       "    </tr>\n",
       "  </thead>\n",
       "  <tbody>\n",
       "    <tr>\n",
       "      <td>0</td>\n",
       "      <td>2020-01-11</td>\n",
       "      <td>2fa2ab62-f1b0-4036-872f-bcfd9a8686ff</td>\n",
       "      <td>3.75</td>\n",
       "    </tr>\n",
       "    <tr>\n",
       "      <td>1</td>\n",
       "      <td>2020-01-12</td>\n",
       "      <td>2fa2ab62-f1b0-4036-872f-bcfd9a8686ff</td>\n",
       "      <td>4.40</td>\n",
       "    </tr>\n",
       "    <tr>\n",
       "      <td>2</td>\n",
       "      <td>2020-01-13</td>\n",
       "      <td>2fa2ab62-f1b0-4036-872f-bcfd9a8686ff</td>\n",
       "      <td>5.00</td>\n",
       "    </tr>\n",
       "    <tr>\n",
       "      <td>3</td>\n",
       "      <td>2020-01-14</td>\n",
       "      <td>2fa2ab62-f1b0-4036-872f-bcfd9a8686ff</td>\n",
       "      <td>3.33</td>\n",
       "    </tr>\n",
       "    <tr>\n",
       "      <td>4</td>\n",
       "      <td>2020-01-15</td>\n",
       "      <td>603b8641-c6f6-4d89-ac89-88e50d45aa0d</td>\n",
       "      <td>5.00</td>\n",
       "    </tr>\n",
       "    <tr>\n",
       "      <td>5</td>\n",
       "      <td>2020-01-16</td>\n",
       "      <td>2fa2ab62-f1b0-4036-872f-bcfd9a8686ff</td>\n",
       "      <td>4.00</td>\n",
       "    </tr>\n",
       "    <tr>\n",
       "      <td>6</td>\n",
       "      <td>2020-01-17</td>\n",
       "      <td>30a19496-bdaf-461c-abbc-2709ae520201</td>\n",
       "      <td>4.50</td>\n",
       "    </tr>\n",
       "    <tr>\n",
       "      <td>7</td>\n",
       "      <td>2020-01-18</td>\n",
       "      <td>1c39e78f-6ded-4b2e-83d6-036ca34ecfdc</td>\n",
       "      <td>4.25</td>\n",
       "    </tr>\n",
       "    <tr>\n",
       "      <td>8</td>\n",
       "      <td>2020-01-19</td>\n",
       "      <td>43efce48-94b2-4412-857f-223d45969008</td>\n",
       "      <td>4.44</td>\n",
       "    </tr>\n",
       "    <tr>\n",
       "      <td>9</td>\n",
       "      <td>2020-01-20</td>\n",
       "      <td>2fa2ab62-f1b0-4036-872f-bcfd9a8686ff</td>\n",
       "      <td>4.50</td>\n",
       "    </tr>\n",
       "  </tbody>\n",
       "</table>\n",
       "</div>"
      ],
      "text/plain": [
       "  scheduled_time                               user_id  mean\n",
       "0     2020-01-11  2fa2ab62-f1b0-4036-872f-bcfd9a8686ff  3.75\n",
       "1     2020-01-12  2fa2ab62-f1b0-4036-872f-bcfd9a8686ff  4.40\n",
       "2     2020-01-13  2fa2ab62-f1b0-4036-872f-bcfd9a8686ff  5.00\n",
       "3     2020-01-14  2fa2ab62-f1b0-4036-872f-bcfd9a8686ff  3.33\n",
       "4     2020-01-15  603b8641-c6f6-4d89-ac89-88e50d45aa0d  5.00\n",
       "5     2020-01-16  2fa2ab62-f1b0-4036-872f-bcfd9a8686ff  4.00\n",
       "6     2020-01-17  30a19496-bdaf-461c-abbc-2709ae520201  4.50\n",
       "7     2020-01-18  1c39e78f-6ded-4b2e-83d6-036ca34ecfdc  4.25\n",
       "8     2020-01-19  43efce48-94b2-4412-857f-223d45969008  4.44\n",
       "9     2020-01-20  2fa2ab62-f1b0-4036-872f-bcfd9a8686ff  4.50"
      ]
     },
     "execution_count": 76,
     "metadata": {},
     "output_type": "execute_result"
    }
   ],
   "source": [
    "les_phis = les_phis[['scheduled_time', 'user_id', 'sum', 'count']].groupby(by=['scheduled_time', 'user_id'], as_index=False).sum()\n",
    "les_phis = les_phis[les_phis['sum'] > 0]\n",
    "les_phis['mean'] = round(les_phis['sum']/les_phis['count'],2)\n",
    "les_phis[['scheduled_time', 'user_id','mean']].groupby(by='scheduled_time',as_index=False).min()"
   ]
  },
  {
   "cell_type": "code",
   "execution_count": null,
   "metadata": {},
   "outputs": [],
   "source": []
  }
 ],
 "metadata": {
  "kernelspec": {
   "display_name": "Python 3",
   "language": "python",
   "name": "python3"
  },
  "language_info": {
   "codemirror_mode": {
    "name": "ipython",
    "version": 3
   },
   "file_extension": ".py",
   "mimetype": "text/x-python",
   "name": "python",
   "nbconvert_exporter": "python",
   "pygments_lexer": "ipython3",
   "version": "3.7.4"
  }
 },
 "nbformat": 4,
 "nbformat_minor": 4
}
